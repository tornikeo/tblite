{
 "cells": [
  {
   "cell_type": "code",
   "execution_count": null,
   "id": "1bd98dfd",
   "metadata": {},
   "outputs": [
    {
     "name": "stderr",
     "output_type": "stream",
     "text": [
      "100%|██████████| 6/6 [06:22<00:00, 63.74s/it] \n"
     ]
    }
   ],
   "source": [
    "# Enable all CPU cores\n",
    "from tqdm import tqdm\n",
    "import pandas as pd\n",
    "import re\n",
    "import pandas as pd\n",
    "\n",
    "# Read the file content\n",
    "def parse_to_datafame(file_path):\n",
    "  with open(file_path, \"r\") as file:\n",
    "      content = file.read()\n",
    "  # Define a regex pattern to extract the test case and its details\n",
    "  pattern = r\"\\s+structure\\s+(?P<structure>.+)\\s+nat\\s+(?P<nat>\\d+)\\s+nprim\\s+(?P<nprim>\\d+)\\s+maxl\\s+(?P<maxl>\\d+)\\s+max_nnl\\s+(?P<max_nnl>\\d+)\\s+mean_nnl\\s+(?P<mean_nnl>\\d+)\\s+max_nsh\\s+(?P<max_nsh>\\d+)\\s+cpu_time\\s+(?P<cpu_time>[\\d.]+)\\s+gpu_gb_in\\s+(?P<gpu_gb_in>[\\d.]+)\\s+gpu_gb_out\\s+(?P<gpu_gb_out>[\\d.]+)\\s+gpu_gb_total\\s+(?P<gpu_gb_total>[\\d.]+)\\s+gpu_between_atoms\\s+(?P<gpu_between_atoms>[\\d.]+)\\s+gpu_in_atoms\\s+(?P<gpu_in_atoms>[\\d.]+)\\s+gpu_time\\s+(?P<gpu_time>[\\d.]+)\\s+gpu_transfer_time\\s+(?P<gpu_transfer_time>[\\d.]+)\"\n",
    "\n",
    "  # Use re.finditer to extract all matches\n",
    "  matches = re.finditer(pattern, content)\n",
    "\n",
    "  # Create a list of dictionaries to store the extracted data\n",
    "  data = []\n",
    "  for match in matches:\n",
    "      data.append(match.groupdict())\n",
    "\n",
    "  # Convert the list of dictionaries into a pandas DataFrame\n",
    "  df = pd.DataFrame(data)\n",
    "\n",
    "# Convert numeric columns to appropriate data types\n",
    "  numeric_columns = [\n",
    "    'nat', 'nprim', 'maxl', 'max_nnl', 'mean_nnl', 'max_nsh',\n",
    "    'cpu_time', 'gpu_gb_in', 'gpu_gb_out', 'gpu_gb_total',\n",
    "    'gpu_between_atoms', 'gpu_in_atoms', 'gpu_time', 'gpu_transfer_time'\n",
    "  ]\n",
    "  # # Convert the numeric columns to float\n",
    "  df[numeric_columns] = df[numeric_columns].apply(pd.to_numeric)\n",
    "\n",
    "  # Display the DataFrame\n",
    "  df = df.sort_values('nat')\n",
    "  return df\n",
    "\n",
    "option = 'A100-SXM4-80GB'\n",
    "!mkdir -p notes/capture/{option}\n",
    "!mkdir -p notes/data/{option}\n",
    "!meson test -C build/ hamiltonian --verbose -t 0 > notes/capture/{option}/gpu.txt\n",
    "df = parse_to_datafame(f\"notes/capture/{option}/gpu.txt\")\n",
    "df.to_csv(f\"notes/data/{option}/gpu.csv\", index=False)\n",
    "df"
   ]
  },
  {
   "cell_type": "code",
   "execution_count": 2,
   "id": "7817e0b7",
   "metadata": {},
   "outputs": [
    {
     "name": "stdout",
     "output_type": "stream",
     "text": [
      "96\n",
      "Architecture:             x86_64\n",
      "  CPU op-mode(s):         32-bit, 64-bit\n",
      "  Address sizes:          48 bits physical, 48 bits virtual\n",
      "  Byte Order:             Little Endian\n",
      "CPU(s):                   96\n",
      "  On-line CPU(s) list:    0-95\n",
      "Vendor ID:                AuthenticAMD\n",
      "  Model name:             AMD EPYC 74F3 24-Core Processor\n",
      "    CPU family:           25\n",
      "    Model:                1\n",
      "    Thread(s) per core:   2\n",
      "    Core(s) per socket:   24\n",
      "    Socket(s):            2\n",
      "    Stepping:             1\n",
      "    BogoMIPS:             6388.22\n",
      "    Flags:                fpu vme de pse tsc msr pae mce cx8 apic sep mtrr pge m\n",
      "                          ca cmov pat pse36 clflush mmx fxsr sse sse2 ht syscall\n",
      "                           nx mmxext fxsr_opt pdpe1gb rdtscp lm constant_tsc rep\n",
      "                          _good nopl nonstop_tsc cpuid extd_apicid aperfmperf ra\n",
      "                          pl pni pclmulqdq monitor ssse3 fma cx16 pcid sse4_1 ss\n",
      "                          e4_2 x2apic movbe popcnt aes xsave avx f16c rdrand lah\n",
      "                          f_lm cmp_legacy svm extapic cr8_legacy abm sse4a misal\n",
      "                          ignsse 3dnowprefetch osvw ibs skinit wdt tce topoext p\n",
      "                          erfctr_core perfctr_nb bpext perfctr_llc mwaitx cpb ca\n",
      "                          t_l3 cdp_l3 hw_pstate ssbd mba ibrs ibpb stibp vmmcall\n",
      "                           fsgsbase bmi1 avx2 smep bmi2 invpcid cqm rdt_a rdseed\n",
      "                           adx smap clflushopt clwb sha_ni xsaveopt xsavec xgetb\n",
      "                          v1 xsaves cqm_llc cqm_occup_llc cqm_mbm_total cqm_mbm_\n",
      "                          local user_shstk clzero irperf xsaveerptr rdpru wbnoin\n",
      "                          vd amd_ppin brs arat npt lbrv svm_lock nrip_save tsc_s\n",
      "                          cale vmcb_clean flushbyasid decodeassists pausefilter \n",
      "                          pfthreshold v_vmsave_vmload vgif v_spec_ctrl umip pku \n",
      "                          ospke vaes vpclmulqdq rdpid overflow_recov succor smca\n",
      "                           debug_swap\n",
      "Virtualization features:  \n",
      "  Virtualization:         AMD-V\n",
      "Caches (sum of all):      \n",
      "  L1d:                    1.5 MiB (48 instances)\n",
      "  L1i:                    1.5 MiB (48 instances)\n",
      "  L2:                     24 MiB (48 instances)\n",
      "  L3:                     512 MiB (16 instances)\n",
      "NUMA:                     \n",
      "  NUMA node(s):           8\n",
      "  NUMA node0 CPU(s):      0-5,48-53\n",
      "  NUMA node1 CPU(s):      6-11,54-59\n",
      "  NUMA node2 CPU(s):      12-17,60-65\n",
      "  NUMA node3 CPU(s):      18-23,66-71\n",
      "  NUMA node4 CPU(s):      24-29,72-77\n",
      "  NUMA node5 CPU(s):      30-35,78-83\n",
      "  NUMA node6 CPU(s):      36-41,84-89\n",
      "  NUMA node7 CPU(s):      42-47,90-95\n",
      "Vulnerabilities:          \n",
      "  Gather data sampling:   Not affected\n",
      "  Itlb multihit:          Not affected\n",
      "  L1tf:                   Not affected\n",
      "  Mds:                    Not affected\n",
      "  Meltdown:               Not affected\n",
      "  Mmio stale data:        Not affected\n",
      "  Reg file data sampling: Not affected\n",
      "  Retbleed:               Not affected\n",
      "  Spec rstack overflow:   Mitigation; Safe RET\n",
      "  Spec store bypass:      Mitigation; Speculative Store Bypass disabled via prct\n",
      "                          l\n",
      "  Spectre v1:             Mitigation; usercopy/swapgs barriers and __user pointe\n",
      "                          r sanitization\n",
      "  Spectre v2:             Mitigation; Retpolines; IBPB conditional; IBRS_FW; STI\n",
      "                          BP always-on; RSB filling; PBRSB-eIBRS Not affected; B\n",
      "                          HI Not affected\n",
      "  Srbds:                  Not affected\n",
      "  Tsx async abort:        Not affected\n"
     ]
    }
   ],
   "source": [
    "!nproc\n",
    "!lscpu"
   ]
  },
  {
   "cell_type": "code",
   "execution_count": 3,
   "id": "073bd0be",
   "metadata": {},
   "outputs": [
    {
     "name": "stdout",
     "output_type": "stream",
     "text": [
      "Wed May 21 07:13:32 2025       \n",
      "+-----------------------------------------------------------------------------------------+\n",
      "| NVIDIA-SMI 560.35.05              Driver Version: 560.35.05      CUDA Version: 12.6     |\n",
      "|-----------------------------------------+------------------------+----------------------+\n",
      "| GPU  Name                 Persistence-M | Bus-Id          Disp.A | Volatile Uncorr. ECC |\n",
      "| Fan  Temp   Perf          Pwr:Usage/Cap |           Memory-Usage | GPU-Util  Compute M. |\n",
      "|                                         |                        |               MIG M. |\n",
      "|=========================================+========================+======================|\n",
      "|   0  NVIDIA A100-SXM4-80GB          On  |   00000000:81:00.0 Off |                    0 |\n",
      "| N/A   29C    P0             71W /  500W |       1MiB /  81920MiB |      0%      Default |\n",
      "|                                         |                        |             Disabled |\n",
      "+-----------------------------------------+------------------------+----------------------+\n",
      "|   1  NVIDIA A100-SXM4-80GB          On  |   00000000:C1:00.0 Off |                    0 |\n",
      "| N/A   27C    P0             55W /  500W |       1MiB /  81920MiB |      0%      Default |\n",
      "|                                         |                        |             Disabled |\n",
      "+-----------------------------------------+------------------------+----------------------+\n",
      "                                                                                         \n",
      "+-----------------------------------------------------------------------------------------+\n",
      "| Processes:                                                                              |\n",
      "|  GPU   GI   CI        PID   Type   Process name                              GPU Memory |\n",
      "|        ID   ID                                                               Usage      |\n",
      "|=========================================================================================|\n",
      "|  No running processes found                                                             |\n",
      "+-----------------------------------------------------------------------------------------+\n"
     ]
    }
   ],
   "source": [
    "!nvidia-smi"
   ]
  }
 ],
 "metadata": {
  "kernelspec": {
   "display_name": "base",
   "language": "python",
   "name": "python3"
  },
  "language_info": {
   "codemirror_mode": {
    "name": "ipython",
    "version": 3
   },
   "file_extension": ".py",
   "mimetype": "text/x-python",
   "name": "python",
   "nbconvert_exporter": "python",
   "pygments_lexer": "ipython3",
   "version": "3.10.14"
  }
 },
 "nbformat": 4,
 "nbformat_minor": 5
}
