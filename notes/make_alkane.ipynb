{
 "cells": [
  {
   "cell_type": "code",
   "execution_count": 2,
   "id": "9fe55994",
   "metadata": {},
   "outputs": [
    {
     "name": "stderr",
     "output_type": "stream",
     "text": [
      "100%|██████████| 8/8 [00:00<00:00, 787.51it/s]"
     ]
    },
    {
     "name": "stdout",
     "output_type": "stream",
     "text": [
      "XYZ file 'test/perf/alkanes/alkane_64.xyz' generated successfully with 64 carbons.\n",
      "XYZ file 'test/perf/alkanes/alkane_128.xyz' generated successfully with 128 carbons.\n",
      "XYZ file 'test/perf/alkanes/alkane_256.xyz' generated successfully with 256 carbons.\n",
      "XYZ file 'test/perf/alkanes/alkane_512.xyz' generated successfully with 512 carbons.\n",
      "XYZ file 'test/perf/alkanes/alkane_1024.xyz' generated successfully with 1024 carbons.\n",
      "XYZ file 'test/perf/alkanes/alkane_2048.xyz' generated successfully with 2048 carbons.\n",
      "XYZ file 'test/perf/alkanes/alkane_4096.xyz' generated successfully with 4096 carbons.\n",
      "XYZ file 'test/perf/alkanes/alkane_8192.xyz' generated successfully with 8192 carbons.\n"
     ]
    },
    {
     "name": "stderr",
     "output_type": "stream",
     "text": [
      "\n"
     ]
    }
   ],
   "source": [
    "import numpy as np\n",
    "import os\n",
    "from tqdm import tqdm\n",
    "\n",
    "def generate_alkane_xyz(num_carbons, output_file):\n",
    "    \"\"\"\n",
    "    Generate an XYZ file for a long chain alkane with the specified number of carbon atoms.\n",
    "\n",
    "    Args:\n",
    "        num_carbons (int): Number of carbon atoms in the alkane chain.\n",
    "        output_file (str): Name of the output XYZ file.\n",
    "    \"\"\"\n",
    "    if num_carbons < 1:\n",
    "        raise ValueError(\"Number of carbon atoms must be at least 1.\")\n",
    "\n",
    "    # Number of atoms: C atoms + H atoms (2 for each end + 2 for each middle C)\n",
    "    num_hydrogens = 2 + (num_carbons - 1) * 2\n",
    "    num_atoms = num_carbons + num_hydrogens\n",
    "\n",
    "    # Open the file for writing\n",
    "    with open(output_file, \"w\") as f:\n",
    "        # Write the number of atoms and a comment line\n",
    "        f.write(f\"{num_atoms}\\n\")\n",
    "        f.write(f\"Alkane chain with {num_carbons} carbons\\n\")\n",
    "\n",
    "        # Generate the carbon chain\n",
    "        for i in range(num_carbons):\n",
    "            f.write(f\"C {i * 1.54:.2f} 0.00 0.00\\n\")  # Carbon atoms spaced 1.54 Å apart\n",
    "\n",
    "        # Generate the hydrogen atoms\n",
    "        for i in range(num_carbons):\n",
    "            if i == 0:  # First carbon\n",
    "                f.write(f\"H {i * 1.54 - 0.77:.2f} 0.77 0.00\\n\")\n",
    "                f.write(f\"H {i * 1.54 - 0.77:.2f} -0.77 0.00\\n\")\n",
    "            elif i == num_carbons - 1:  # Last carbon\n",
    "                f.write(f\"H {i * 1.54 + 0.77:.2f} 0.77 0.00\\n\")\n",
    "                f.write(f\"H {i * 1.54 + 0.77:.2f} -0.77 0.00\\n\")\n",
    "            else:  # Middle carbons\n",
    "                f.write(f\"H {i * 1.54:.2f} 0.77 0.00\\n\")\n",
    "                f.write(f\"H {i * 1.54:.2f} -0.77 0.00\\n\")\n",
    "\n",
    "    print(f\"XYZ file '{output_file}' generated successfully with {num_carbons} carbons.\")\n",
    "\n",
    "# !rm -rf test/perf/alkanes\n",
    "!mkdir -p test/perf/alkanes\n",
    "for nat in tqdm([64, 128, 256, 512, 1024, 2048, 4096, 8192]):\n",
    "    nat = int(nat)\n",
    "    os.makedirs('test/perf/alkanes', exist_ok=True)\n",
    "    generate_alkane_xyz(nat, f'test/perf/alkanes/alkane_{nat}.xyz')"
   ]
  },
  {
   "cell_type": "code",
   "execution_count": null,
   "id": "344d4a5e",
   "metadata": {},
   "outputs": [],
   "source": []
  }
 ],
 "metadata": {
  "kernelspec": {
   "display_name": "Python 3",
   "language": "python",
   "name": "python3"
  },
  "language_info": {
   "codemirror_mode": {
    "name": "ipython",
    "version": 3
   },
   "file_extension": ".py",
   "mimetype": "text/x-python",
   "name": "python",
   "nbconvert_exporter": "python",
   "pygments_lexer": "ipython3",
   "version": "3.10.16"
  }
 },
 "nbformat": 4,
 "nbformat_minor": 5
}
