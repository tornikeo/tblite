{
 "cells": [
  {
   "cell_type": "code",
   "execution_count": 3,
   "id": "1bd98dfd",
   "metadata": {},
   "outputs": [
    {
     "name": "stderr",
     "output_type": "stream",
     "text": [
      "100%|██████████| 6/6 [04:50<00:00, 48.35s/it]\n"
     ]
    }
   ],
   "source": [
    "# Enable all CPU cores\n",
    "from tqdm import tqdm\n",
    "import pandas as pd\n",
    "import re\n",
    "import pandas as pd\n",
    "\n",
    "# Read the file content\n",
    "def parse_to_datafame(file_path):\n",
    "  with open(file_path, \"r\") as file:\n",
    "      content = file.read()\n",
    "  # Define a regex pattern to extract the test case and its details\n",
    "  pattern = r\" structure (?P<structure>.+)\\s+nat\\s+(?P<nat>\\d+)\\s+nprim\\s+(?P<nprim>\\d+)\\s+maxl\\s+(?P<maxl>\\d+)\\s+max_nnl\\s+(?P<max_nnl>\\d+)\\s+mean_nnl\\s+(?P<mean_nnl>\\d+)\\s+max_nsh\\s+(?P<max_nsh>\\d+)\\s+cpu_time\\s+(?P<cpu_time>[\\d.]+)\\s+gpu_gb_in\\s+(?P<gpu_gb_in>[\\d.]+)\\s+gpu_gb_out\\s+(?P<gpu_gb_out>[\\d.]+)\\s+gpu_gb_total\\s+(?P<gpu_gb_total>[\\d.]+)\\s+gpu_between_atoms\\s+(?P<gpu_between_atoms>[\\d.]+)\\s+gpu_in_atoms\\s+(?P<gpu_in_atoms>[\\d.]+)\\s+gpu_time\\s+(?P<gpu_time>[\\d.]+)\\s+gpu_walltime\\s+(?P<gpu_walltime>[\\d.]+)\"\n",
    "\n",
    "  # Use re.finditer to extract all matches\n",
    "  matches = re.finditer(pattern, content)\n",
    "\n",
    "  # Create a list of dictionaries to store the extracted data\n",
    "  data = []\n",
    "  for match in matches:\n",
    "      data.append(match.groupdict())\n",
    "\n",
    "  # Convert the list of dictionaries into a pandas DataFrame\n",
    "  df = pd.DataFrame(data)\n",
    "\n",
    "# Convert numeric columns to appropriate data types\n",
    "  numeric_columns = [\n",
    "      'nat', 'nprim', 'maxl', 'max_nnl', 'mean_nnl', 'max_nsh',\n",
    "      'cpu_time', 'gpu_gb_in', 'gpu_gb_out', 'gpu_gb_total',\n",
    "      'gpu_between_atoms', 'gpu_in_atoms', 'gpu_time', 'gpu_walltime'\n",
    "  ]\n",
    "  # Convert the numeric columns to float\n",
    "  df[numeric_columns] = df[numeric_columns].apply(pd.to_numeric)\n",
    "\n",
    "  # Display the DataFrame\n",
    "  df = df.sort_values('nat')\n",
    "  return df\n",
    "\n",
    "option = 'h200'\n",
    "!rm -rf notes/capture/{option}\n",
    "!mkdir -p notes/capture/{option}\n",
    "!rm -rf notes/data/{option}\n",
    "!mkdir -p notes/data/{option}\n",
    "for ncore in tqdm([1, 2, 4, 8, 16, 32]):\n",
    "  ncore = str(ncore)\n",
    "  !OMP_NUM_THREADS={ncore} meson test -C build/ hamiltonian --verbose -t 0 > notes/capture/{option}/{ncore}cpu.txt\n",
    "  df = parse_to_datafame(f\"notes/capture/{option}/{ncore}cpu.txt\")\n",
    "  df.to_csv(f\"notes/data/{option}/{ncore}cpu.csv\", index=False)"
   ]
  },
  {
   "cell_type": "code",
   "execution_count": 4,
   "id": "7817e0b7",
   "metadata": {},
   "outputs": [
    {
     "name": "stdout",
     "output_type": "stream",
     "text": [
      "192\n"
     ]
    },
    {
     "name": "stdout",
     "output_type": "stream",
     "text": [
      "Architecture:             x86_64\n",
      "  CPU op-mode(s):         32-bit, 64-bit\n",
      "  Address sizes:          46 bits physical, 57 bits virtual\n",
      "  Byte Order:             Little Endian\n",
      "CPU(s):                   192\n",
      "  On-line CPU(s) list:    0-191\n",
      "Vendor ID:                GenuineIntel\n",
      "  Model name:             INTEL(R) XEON(R) PLATINUM 8568Y+\n",
      "    CPU family:           6\n",
      "    Model:                207\n",
      "    Thread(s) per core:   2\n",
      "    Core(s) per socket:   48\n",
      "    Socket(s):            2\n",
      "    Stepping:             2\n",
      "    CPU max MHz:          4000.0000\n",
      "    CPU min MHz:          800.0000\n",
      "    BogoMIPS:             4600.00\n",
      "    Flags:                fpu vme de pse tsc msr pae mce cx8 apic sep mtrr pge m\n",
      "                          ca cmov pat pse36 clflush dts acpi mmx fxsr sse sse2 s\n",
      "                          s ht tm pbe syscall nx pdpe1gb rdtscp lm constant_tsc \n",
      "                          art arch_perfmon pebs bts rep_good nopl xtopology nons\n",
      "                          top_tsc cpuid aperfmperf tsc_known_freq pni pclmulqdq \n",
      "                          dtes64 monitor ds_cpl vmx smx est tm2 ssse3 sdbg fma c\n",
      "                          x16 xtpr pdcm pcid dca sse4_1 sse4_2 x2apic movbe popc\n",
      "                          nt tsc_deadline_timer aes xsave avx f16c rdrand lahf_l\n",
      "                          m abm 3dnowprefetch cpuid_fault epb cat_l3 cat_l2 cdp_\n",
      "                          l3 cdp_l2 ssbd mba ibrs ibpb stibp ibrs_enhanced tpr_s\n",
      "                          hadow flexpriority ept vpid ept_ad fsgsbase tsc_adjust\n",
      "                           bmi1 avx2 smep bmi2 erms invpcid cqm rdt_a avx512f av\n",
      "                          x512dq rdseed adx smap avx512ifma clflushopt clwb inte\n",
      "                          l_pt avx512cd sha_ni avx512bw avx512vl xsaveopt xsavec\n",
      "                           xgetbv1 xsaves cqm_llc cqm_occup_llc cqm_mbm_total cq\n",
      "                          m_mbm_local split_lock_detect user_shstk avx_vnni avx5\n",
      "                          12_bf16 wbnoinvd dtherm ida arat pln pts hfi vnmi avx5\n",
      "                          12vbmi umip pku ospke waitpkg avx512_vbmi2 gfni vaes v\n",
      "                          pclmulqdq avx512_vnni avx512_bitalg tme avx512_vpopcnt\n",
      "                          dq la57 rdpid bus_lock_detect cldemote movdiri movdir6\n",
      "                          4b enqcmd fsrm md_clear serialize tsxldtrk pconfig arc\n",
      "                          h_lbr ibt amx_bf16 avx512_fp16 amx_tile amx_int8 flush\n",
      "                          _l1d arch_capabilities\n",
      "Virtualization features:  \n",
      "  Virtualization:         VT-x\n",
      "Caches (sum of all):      \n",
      "  L1d:                    4.5 MiB (96 instances)\n",
      "  L1i:                    3 MiB (96 instances)\n",
      "  L2:                     192 MiB (96 instances)\n",
      "  L3:                     600 MiB (2 instances)\n",
      "NUMA:                     \n",
      "  NUMA node(s):           2\n",
      "  NUMA node0 CPU(s):      0,2,4,6,8,10,12,14,16,18,20,22,24,26,28,30,32,34,36,38\n",
      "                          ,40,42,44,46,48,50,52,54,56,58,60,62,64,66,68,70,72,74\n",
      "                          ,76,78,80,82,84,86,88,90,92,94,96,98,100,102,104,106,1\n",
      "                          08,110,112,114,116,118,120,122,124,126,128,130,132,134\n",
      "                          ,136,138,140,142,144,146,148,150,152,154,156,158,160,1\n",
      "                          62,164,166,168,170,172,174,176,178,180,182,184,186,188\n",
      "                          ,190\n",
      "  NUMA node1 CPU(s):      1,3,5,7,9,11,13,15,17,19,21,23,25,27,29,31,33,35,37,39\n",
      "                          ,41,43,45,47,49,51,53,55,57,59,61,63,65,67,69,71,73,75\n",
      "                          ,77,79,81,83,85,87,89,91,93,95,97,99,101,103,105,107,1\n",
      "                          09,111,113,115,117,119,121,123,125,127,129,131,133,135\n",
      "                          ,137,139,141,143,145,147,149,151,153,155,157,159,161,1\n",
      "                          63,165,167,169,171,173,175,177,179,181,183,185,187,189\n",
      "                          ,191\n",
      "Vulnerabilities:          \n",
      "  Gather data sampling:   Not affected\n",
      "  Itlb multihit:          Not affected\n",
      "  L1tf:                   Not affected\n",
      "  Mds:                    Not affected\n",
      "  Meltdown:               Not affected\n",
      "  Mmio stale data:        Not affected\n",
      "  Reg file data sampling: Not affected\n",
      "  Retbleed:               Not affected\n",
      "  Spec rstack overflow:   Not affected\n",
      "  Spec store bypass:      Mitigation; Speculative Store Bypass disabled via prct\n",
      "                          l\n",
      "  Spectre v1:             Mitigation; usercopy/swapgs barriers and __user pointe\n",
      "                          r sanitization\n",
      "  Spectre v2:             Mitigation; Enhanced / Automatic IBRS; IBPB conditiona\n",
      "                          l; RSB filling; PBRSB-eIBRS SW sequence; BHI BHI_DIS_S\n",
      "  Srbds:                  Not affected\n",
      "  Tsx async abort:        Not affected\n"
     ]
    }
   ],
   "source": [
    "!nproc\n",
    "!lscpu"
   ]
  },
  {
   "cell_type": "code",
   "execution_count": 5,
   "id": "073bd0be",
   "metadata": {},
   "outputs": [
    {
     "name": "stdout",
     "output_type": "stream",
     "text": [
      "Wed May 21 08:08:31 2025       \n",
      "+-----------------------------------------------------------------------------------------+\n",
      "| NVIDIA-SMI 570.133.20             Driver Version: 570.133.20     CUDA Version: 12.8     |\n",
      "|-----------------------------------------+------------------------+----------------------+\n",
      "| GPU  Name                 Persistence-M | Bus-Id          Disp.A | Volatile Uncorr. ECC |\n",
      "| Fan  Temp   Perf          Pwr:Usage/Cap |           Memory-Usage | GPU-Util  Compute M. |\n",
      "|                                         |                        |               MIG M. |\n",
      "|=========================================+========================+======================|\n",
      "|   0  NVIDIA H200                    On  |   00000000:4C:00.0 Off |                    0 |\n",
      "| N/A   28C    P0             76W /  700W |       0MiB / 143771MiB |      0%      Default |\n",
      "|                                         |                        |             Disabled |\n",
      "+-----------------------------------------+------------------------+----------------------+\n",
      "|   1  NVIDIA H200                    On  |   00000000:5D:00.0 Off |                    0 |\n",
      "| N/A   29C    P0             77W /  700W |       0MiB / 143771MiB |      0%      Default |\n",
      "|                                         |                        |             Disabled |\n",
      "+-----------------------------------------+------------------------+----------------------+\n",
      "                                                                                         \n",
      "+-----------------------------------------------------------------------------------------+\n",
      "| Processes:                                                                              |\n",
      "|  GPU   GI   CI              PID   Type   Process name                        GPU Memory |\n",
      "|        ID   ID                                                               Usage      |\n",
      "|=========================================================================================|\n",
      "|  No running processes found                                                             |\n",
      "+-----------------------------------------------------------------------------------------+\n"
     ]
    }
   ],
   "source": [
    "!nvidia-smi"
   ]
  }
 ],
 "metadata": {
  "kernelspec": {
   "display_name": "base",
   "language": "python",
   "name": "python3"
  },
  "language_info": {
   "codemirror_mode": {
    "name": "ipython",
    "version": 3
   },
   "file_extension": ".py",
   "mimetype": "text/x-python",
   "name": "python",
   "nbconvert_exporter": "python",
   "pygments_lexer": "ipython3",
   "version": "3.10.14"
  }
 },
 "nbformat": 4,
 "nbformat_minor": 5
}
