{
 "cells": [
  {
   "cell_type": "code",
   "execution_count": 4,
   "id": "1bd98dfd",
   "metadata": {},
   "outputs": [],
   "source": [
    "# Enable all CPU cores\n",
    "from tqdm import tqdm\n",
    "import pandas as pd\n",
    "import re\n",
    "import pandas as pd\n",
    "\n",
    "# Read the file content\n",
    "def parse_to_datafame(file_path):\n",
    "  with open(file_path, \"r\") as file:\n",
    "      content = file.read()\n",
    "  # Define a regex pattern to extract the test case and its details\n",
    "  pattern = r\"\\s+structure\\s+(?P<structure>.+)\\s+nat\\s+(?P<nat>\\d+)\\s+nprim\\s+(?P<nprim>\\d+)\\s+maxl\\s+(?P<maxl>\\d+)\\s+max_nnl\\s+(?P<max_nnl>\\d+)\\s+mean_nnl\\s+(?P<mean_nnl>\\d+)\\s+max_nsh\\s+(?P<max_nsh>\\d+)\\s+total_nao\\s+(?P<total_nao>\\d+)\\s+cpu_time\\s+(?P<cpu_time>[\\d.]+)\"\n",
    "\n",
    "  # Use re.finditer to extract all matches\n",
    "  matches = re.finditer(pattern, content)\n",
    "\n",
    "  # Create a list of dictionaries to store the extracted data\n",
    "  data = []\n",
    "  for match in matches:\n",
    "      data.append(match.groupdict())\n",
    "\n",
    "  # Convert the list of dictionaries into a pandas DataFrame\n",
    "  df = pd.DataFrame(data)\n",
    "\n",
    "# Convert numeric columns to appropriate data types\n",
    "  numeric_columns = [\n",
    "    'nat', 'nprim', 'maxl', 'max_nnl', 'mean_nnl', 'max_nsh', 'total_nao',\n",
    "    'cpu_time'\n",
    "  ]\n",
    "  # Convert the numeric columns to float\n",
    "  df[numeric_columns] = df[numeric_columns].apply(pd.to_numeric)\n",
    "\n",
    "  # Display the DataFrame\n",
    "  df = df.sort_values('nat')\n",
    "  return df\n",
    "\n",
    "option = 'i9-14900HX-no-atomic'\n",
    "!mkdir -p notes/capture/{option}\n",
    "!mkdir -p notes/data/{option}"
   ]
  },
  {
   "cell_type": "code",
   "execution_count": 5,
   "id": "9b858338",
   "metadata": {},
   "outputs": [
    {
     "name": "stderr",
     "output_type": "stream",
     "text": [
      "100%|██████████| 6/6 [00:14<00:00,  2.48s/it]\n"
     ]
    }
   ],
   "source": [
    "for ncore in tqdm([1, 2, 4, 8, 16, 32]):\n",
    "  ncore = str(ncore)\n",
    "  !NO_TEST_GPU=1 OMP_NUM_THREADS={ncore} meson test -C build/ hamiltonian --verbose -t 0 > notes/capture/{option}/{ncore}cpu.txt\n",
    "  df = parse_to_datafame(f\"notes/capture/{option}/{ncore}cpu.txt\")\n",
    "  df.to_csv(f\"notes/data/{option}/{ncore}cpu.csv\", index=False)"
   ]
  },
  {
   "cell_type": "code",
   "execution_count": 6,
   "id": "71c42768",
   "metadata": {},
   "outputs": [],
   "source": [
    "!NO_TEST_GPU=1 meson test -C build/ hamiltonian --verbose -t 0 > notes/capture/{option}/32allcpu.txt\n",
    "df = parse_to_datafame(f\"notes/capture/{option}/32allcpu.txt\")\n",
    "df.to_csv(f\"notes/data/{option}/32allcpu.csv\", index=False)"
   ]
  },
  {
   "cell_type": "code",
   "execution_count": 3,
   "id": "b8bc71bf",
   "metadata": {},
   "outputs": [
    {
     "name": "stdout",
     "output_type": "stream",
     "text": [
      "^C\n"
     ]
    }
   ],
   "source": [
    "!NO_TEST_GPU=1 meson test -C build/ hamiltonian-batch --verbose -t 0 > notes/capture/{option}/32batchallcpu.txt"
   ]
  },
  {
   "cell_type": "code",
   "execution_count": 7,
   "id": "71487c9f",
   "metadata": {},
   "outputs": [
    {
     "name": "stdout",
     "output_type": "stream",
     "text": [
      "^C\n"
     ]
    }
   ],
   "source": [
    "!OMP_NUM_THREADS=1 NO_TEST_GPU=1 meson test -C build/ hamiltonian-batch --verbose -t 0 > notes/capture/{option}/1batchcpu.txt"
   ]
  },
  {
   "cell_type": "code",
   "execution_count": null,
   "id": "7f1457ec",
   "metadata": {},
   "outputs": [
    {
     "data": {
      "text/html": [
       "<div>\n",
       "<style scoped>\n",
       "    .dataframe tbody tr th:only-of-type {\n",
       "        vertical-align: middle;\n",
       "    }\n",
       "\n",
       "    .dataframe tbody tr th {\n",
       "        vertical-align: top;\n",
       "    }\n",
       "\n",
       "    .dataframe thead th {\n",
       "        text-align: right;\n",
       "    }\n",
       "</style>\n",
       "<table border=\"1\" class=\"dataframe\">\n",
       "  <thead>\n",
       "    <tr style=\"text-align: right;\">\n",
       "      <th></th>\n",
       "      <th>cpu_time</th>\n",
       "      <th>batch_size</th>\n",
       "    </tr>\n",
       "  </thead>\n",
       "  <tbody>\n",
       "    <tr>\n",
       "      <th>0</th>\n",
       "      <td>23.146714</td>\n",
       "      <td>1</td>\n",
       "    </tr>\n",
       "    <tr>\n",
       "      <th>1</th>\n",
       "      <td>41.541485</td>\n",
       "      <td>4</td>\n",
       "    </tr>\n",
       "    <tr>\n",
       "      <th>2</th>\n",
       "      <td>25.911044</td>\n",
       "      <td>16</td>\n",
       "    </tr>\n",
       "    <tr>\n",
       "      <th>3</th>\n",
       "      <td>54.858065</td>\n",
       "      <td>64</td>\n",
       "    </tr>\n",
       "    <tr>\n",
       "      <th>4</th>\n",
       "      <td>226.617542</td>\n",
       "      <td>256</td>\n",
       "    </tr>\n",
       "    <tr>\n",
       "      <th>5</th>\n",
       "      <td>928.558061</td>\n",
       "      <td>1024</td>\n",
       "    </tr>\n",
       "    <tr>\n",
       "      <th>6</th>\n",
       "      <td>3380.195741</td>\n",
       "      <td>4096</td>\n",
       "    </tr>\n",
       "    <tr>\n",
       "      <th>7</th>\n",
       "      <td>13606.760627</td>\n",
       "      <td>16384</td>\n",
       "    </tr>\n",
       "  </tbody>\n",
       "</table>\n",
       "</div>"
      ],
      "text/plain": [
       "       cpu_time  batch_size\n",
       "0     23.146714           1\n",
       "1     41.541485           4\n",
       "2     25.911044          16\n",
       "3     54.858065          64\n",
       "4    226.617542         256\n",
       "5    928.558061        1024\n",
       "6   3380.195741        4096\n",
       "7  13606.760627       16384"
      ]
     },
     "execution_count": 6,
     "metadata": {},
     "output_type": "execute_result"
    }
   ],
   "source": [
    "\n",
    "def parse_to_datafame(file_path):\n",
    "  with open(file_path, \"r\") as file:\n",
    "      content = file.read()\n",
    "  # Define a regex pattern to extract the test case and its details\n",
    "  pattern = r\"\\s+cpu_time\\s+(?P<cpu_time>[\\d.]+)\\s+batch_size\\s+(?P<batch_size>[\\d.]+)\\s\"\n",
    "\n",
    "  # Use re.finditer to extract all matches\n",
    "  matches = re.finditer(pattern, content)\n",
    "\n",
    "  # Create a list of dictionaries to store the extracted data\n",
    "  data = []\n",
    "  for match in matches:\n",
    "      data.append(match.groupdict())\n",
    "\n",
    "  # Convert the list of dictionaries into a pandas DataFrame\n",
    "  df = pd.DataFrame(data)\n",
    "\n",
    "# Convert numeric columns to appropriate data types\n",
    "  numeric_columns = [\n",
    "    'cpu_time', 'batch_size'\n",
    "  ]\n",
    "  # Convert the numeric columns to float\n",
    "  df[numeric_columns] = df[numeric_columns].apply(pd.to_numeric)\n",
    "\n",
    "  # Display the DataFrame\n",
    "  df = df.sort_values('batch_size')\n",
    "  return df\n",
    "\n",
    "\n",
    "df = parse_to_datafame(f\"notes/capture/{option}/32batchallcpu.txt\")\n",
    "df.to_csv(f\"notes/data/{option}/32batchallcpu.csv\", index=False)\n",
    "df"
   ]
  },
  {
   "cell_type": "code",
   "execution_count": 8,
   "id": "cddd3983",
   "metadata": {},
   "outputs": [
    {
     "data": {
      "text/html": [
       "<div>\n",
       "<style scoped>\n",
       "    .dataframe tbody tr th:only-of-type {\n",
       "        vertical-align: middle;\n",
       "    }\n",
       "\n",
       "    .dataframe tbody tr th {\n",
       "        vertical-align: top;\n",
       "    }\n",
       "\n",
       "    .dataframe thead th {\n",
       "        text-align: right;\n",
       "    }\n",
       "</style>\n",
       "<table border=\"1\" class=\"dataframe\">\n",
       "  <thead>\n",
       "    <tr style=\"text-align: right;\">\n",
       "      <th></th>\n",
       "      <th>cpu_time</th>\n",
       "      <th>batch_size</th>\n",
       "    </tr>\n",
       "  </thead>\n",
       "  <tbody>\n",
       "    <tr>\n",
       "      <th>0</th>\n",
       "      <td>13.515938</td>\n",
       "      <td>1</td>\n",
       "    </tr>\n",
       "    <tr>\n",
       "      <th>1</th>\n",
       "      <td>41.075046</td>\n",
       "      <td>4</td>\n",
       "    </tr>\n",
       "    <tr>\n",
       "      <th>2</th>\n",
       "      <td>167.830571</td>\n",
       "      <td>16</td>\n",
       "    </tr>\n",
       "    <tr>\n",
       "      <th>3</th>\n",
       "      <td>663.315850</td>\n",
       "      <td>64</td>\n",
       "    </tr>\n",
       "    <tr>\n",
       "      <th>4</th>\n",
       "      <td>2575.419801</td>\n",
       "      <td>256</td>\n",
       "    </tr>\n",
       "  </tbody>\n",
       "</table>\n",
       "</div>"
      ],
      "text/plain": [
       "      cpu_time  batch_size\n",
       "0    13.515938           1\n",
       "1    41.075046           4\n",
       "2   167.830571          16\n",
       "3   663.315850          64\n",
       "4  2575.419801         256"
      ]
     },
     "execution_count": 8,
     "metadata": {},
     "output_type": "execute_result"
    }
   ],
   "source": [
    "df = parse_to_datafame(f\"notes/capture/{option}/1batchcpu.txt\")\n",
    "df.to_csv(f\"notes/data/{option}/1batchcpu.csv\", index=False)\n",
    "df"
   ]
  },
  {
   "cell_type": "code",
   "execution_count": 3,
   "id": "7817e0b7",
   "metadata": {},
   "outputs": [
    {
     "name": "stdout",
     "output_type": "stream",
     "text": [
      "32\n",
      "Architecture:             x86_64\n",
      "  CPU op-mode(s):         32-bit, 64-bit\n",
      "  Address sizes:          39 bits physical, 48 bits virtual\n",
      "  Byte Order:             Little Endian\n",
      "CPU(s):                   32\n",
      "  On-line CPU(s) list:    0-31\n",
      "Vendor ID:                GenuineIntel\n",
      "  Model name:             Intel(R) Core(TM) i9-14900HX\n",
      "    CPU family:           6\n",
      "    Model:                183\n",
      "    Thread(s) per core:   2\n",
      "    Core(s) per socket:   24\n",
      "    Socket(s):            1\n",
      "    Stepping:             1\n",
      "    CPU(s) scaling MHz:   31%\n",
      "    CPU max MHz:          5800.0000\n",
      "    CPU min MHz:          800.0000\n",
      "    BogoMIPS:             4838.40\n",
      "    Flags:                fpu vme de pse tsc msr pae mce cx8 apic sep mtrr pge m\n",
      "                          ca cmov pat pse36 clflush dts acpi mmx fxsr sse sse2 s\n",
      "                          s ht tm pbe syscall nx pdpe1gb rdtscp lm constant_tsc \n",
      "                          art arch_perfmon pebs bts rep_good nopl xtopology nons\n",
      "                          top_tsc cpuid aperfmperf tsc_known_freq pni pclmulqdq \n",
      "                          dtes64 monitor ds_cpl vmx est tm2 ssse3 sdbg fma cx16 \n",
      "                          xtpr pdcm sse4_1 sse4_2 x2apic movbe popcnt tsc_deadli\n",
      "                          ne_timer aes xsave avx f16c rdrand lahf_lm abm 3dnowpr\n",
      "                          efetch cpuid_fault epb ssbd ibrs ibpb stibp ibrs_enhan\n",
      "                          ced tpr_shadow flexpriority ept vpid ept_ad fsgsbase t\n",
      "                          sc_adjust bmi1 avx2 smep bmi2 erms invpcid rdseed adx \n",
      "                          smap clflushopt clwb intel_pt sha_ni xsaveopt xsavec x\n",
      "                          getbv1 xsaves split_lock_detect user_shstk avx_vnni dt\n",
      "                          herm ida arat pln pts hwp hwp_notify hwp_act_window hw\n",
      "                          p_epp hwp_pkg_req hfi vnmi umip pku ospke waitpkg gfni\n",
      "                           vaes vpclmulqdq rdpid movdiri movdir64b fsrm md_clear\n",
      "                           serialize arch_lbr ibt flush_l1d arch_capabilities\n",
      "Virtualization features:  \n",
      "  Virtualization:         VT-x\n",
      "Caches (sum of all):      \n",
      "  L1d:                    896 KiB (24 instances)\n",
      "  L1i:                    1.3 MiB (24 instances)\n",
      "  L2:                     32 MiB (12 instances)\n",
      "  L3:                     36 MiB (1 instance)\n",
      "NUMA:                     \n",
      "  NUMA node(s):           1\n",
      "  NUMA node0 CPU(s):      0-31\n",
      "Vulnerabilities:          \n",
      "  Gather data sampling:   Not affected\n",
      "  Itlb multihit:          Not affected\n",
      "  L1tf:                   Not affected\n",
      "  Mds:                    Not affected\n",
      "  Meltdown:               Not affected\n",
      "  Mmio stale data:        Not affected\n",
      "  Reg file data sampling: Mitigation; Clear Register File\n",
      "  Retbleed:               Not affected\n",
      "  Spec rstack overflow:   Not affected\n",
      "  Spec store bypass:      Mitigation; Speculative Store Bypass disabled via prct\n",
      "                          l\n",
      "  Spectre v1:             Mitigation; usercopy/swapgs barriers and __user pointe\n",
      "                          r sanitization\n",
      "  Spectre v2:             Mitigation; Enhanced / Automatic IBRS; IBPB conditiona\n",
      "                          l; RSB filling; PBRSB-eIBRS SW sequence; BHI BHI_DIS_S\n",
      "  Srbds:                  Not affected\n",
      "  Tsx async abort:        Not affected\n"
     ]
    }
   ],
   "source": [
    "!nproc\n",
    "!lscpu"
   ]
  }
 ],
 "metadata": {
  "kernelspec": {
   "display_name": "Python 3",
   "language": "python",
   "name": "python3"
  },
  "language_info": {
   "codemirror_mode": {
    "name": "ipython",
    "version": 3
   },
   "file_extension": ".py",
   "mimetype": "text/x-python",
   "name": "python",
   "nbconvert_exporter": "python",
   "pygments_lexer": "ipython3",
   "version": "3.10.16"
  }
 },
 "nbformat": 4,
 "nbformat_minor": 5
}
