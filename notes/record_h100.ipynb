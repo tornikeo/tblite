{
 "cells": [
  {
   "cell_type": "code",
   "execution_count": 1,
   "id": "1bd98dfd",
   "metadata": {},
   "outputs": [
    {
     "name": "stderr",
     "output_type": "stream",
     "text": [
      "100%|██████████| 7/7 [04:58<00:00, 42.63s/it]\n"
     ]
    }
   ],
   "source": [
    "# Enable all CPU cores\n",
    "from tqdm import tqdm\n",
    "import pandas as pd\n",
    "import re\n",
    "import pandas as pd\n",
    "\n",
    "# Read the file content\n",
    "def parse_to_datafame(file_path):\n",
    "  with open(file_path, \"r\") as file:\n",
    "      content = file.read()\n",
    "  # Define a regex pattern to extract the test case and its details\n",
    "  pattern = r\" structure (?P<structure>.+)\\s+nat\\s+(?P<nat>\\d+)\\s+nprim\\s+(?P<nprim>\\d+)\\s+maxl\\s+(?P<maxl>\\d+)\\s+max_nnl\\s+(?P<max_nnl>\\d+)\\s+mean_nnl\\s+(?P<mean_nnl>\\d+)\\s+max_nsh\\s+(?P<max_nsh>\\d+)\\s+cpu_time\\s+(?P<cpu_time>[\\d.]+)\\s+gpu_gb_in\\s+(?P<gpu_gb_in>[\\d.]+)\\s+gpu_gb_out\\s+(?P<gpu_gb_out>[\\d.]+)\\s+gpu_gb_total\\s+(?P<gpu_gb_total>[\\d.]+)\\s+gpu_between_atoms\\s+(?P<gpu_between_atoms>[\\d.]+)\\s+gpu_in_atoms\\s+(?P<gpu_in_atoms>[\\d.]+)\\s+gpu_time\\s+(?P<gpu_time>[\\d.]+)\\s+gpu_walltime\\s+(?P<gpu_walltime>[\\d.]+)\"\n",
    "\n",
    "  # Use re.finditer to extract all matches\n",
    "  matches = re.finditer(pattern, content)\n",
    "\n",
    "  # Create a list of dictionaries to store the extracted data\n",
    "  data = []\n",
    "  for match in matches:\n",
    "      data.append(match.groupdict())\n",
    "\n",
    "  # Convert the list of dictionaries into a pandas DataFrame\n",
    "  df = pd.DataFrame(data)\n",
    "\n",
    "# Convert numeric columns to appropriate data types\n",
    "  numeric_columns = [\n",
    "      'nat', 'nprim', 'maxl', 'max_nnl', 'mean_nnl', 'max_nsh',\n",
    "      'cpu_time', 'gpu_gb_in', 'gpu_gb_out', 'gpu_gb_total',\n",
    "      'gpu_between_atoms', 'gpu_in_atoms', 'gpu_time', 'gpu_walltime'\n",
    "  ]\n",
    "  # Convert the numeric columns to float\n",
    "  df[numeric_columns] = df[numeric_columns].apply(pd.to_numeric)\n",
    "\n",
    "  # Display the DataFrame\n",
    "  df = df.sort_values('nat')\n",
    "  return df\n",
    "\n",
    "!rm -rf notes/capture/h100\n",
    "!mkdir -p notes/capture/h100\n",
    "for ncore in tqdm([1, 2, 4, 8, 16, 32, 44]):\n",
    "  ncore = str(ncore)\n",
    "  !OMP_NUM_THREADS={ncore} meson test -C build/ hamiltonian --verbose -t 0 > notes/capture/h100/{ncore}cpu.txt\n",
    "  df = parse_to_datafame(f\"notes/capture/h100/{ncore}cpu.txt\")\n",
    "  df.to_csv(f\"notes/data/h100/{ncore}cpu.csv\", index=False)"
   ]
  },
  {
   "cell_type": "code",
   "execution_count": 5,
   "id": "7817e0b7",
   "metadata": {},
   "outputs": [
    {
     "name": "stdout",
     "output_type": "stream",
     "text": [
      "224\n",
      "Architecture:             x86_64\n",
      "  CPU op-mode(s):         32-bit, 64-bit\n",
      "  Address sizes:          52 bits physical, 57 bits virtual\n",
      "  Byte Order:             Little Endian\n",
      "CPU(s):                   224\n",
      "  On-line CPU(s) list:    0-223\n",
      "Vendor ID:                AuthenticAMD\n",
      "  Model name:             AMD EPYC 9554 64-Core Processor\n",
      "    CPU family:           25\n",
      "    Model:                17\n",
      "    Thread(s) per core:   2\n",
      "    Core(s) per socket:   56\n",
      "    Socket(s):            2\n",
      "    Stepping:             1\n",
      "    Frequency boost:      enabled\n",
      "    CPU max MHz:          3762.9880\n",
      "    CPU min MHz:          1500.0000\n",
      "    BogoMIPS:             6190.21\n",
      "    Flags:                fpu vme de pse tsc msr pae mce cx8 apic sep mtrr pge m\n",
      "                          ca cmov pat pse36 clflush mmx fxsr sse sse2 ht syscall\n",
      "                           nx mmxext fxsr_opt pdpe1gb rdtscp lm constant_tsc rep\n",
      "                          _good amd_lbr_v2 nopl nonstop_tsc cpuid extd_apicid ap\n",
      "                          erfmperf rapl pni pclmulqdq monitor ssse3 fma cx16 pci\n",
      "                          d sse4_1 sse4_2 movbe popcnt aes xsave avx f16c rdrand\n",
      "                           lahf_lm cmp_legacy svm extapic cr8_legacy abm sse4a m\n",
      "                          isalignsse 3dnowprefetch osvw ibs skinit wdt tce topoe\n",
      "                          xt perfctr_core perfctr_nb bpext perfctr_llc mwaitx cp\n",
      "                          b cat_l3 cdp_l3 hw_pstate ssbd mba perfmon_v2 ibrs ibp\n",
      "                          b stibp ibrs_enhanced vmmcall fsgsbase bmi1 avx2 smep \n",
      "                          bmi2 erms invpcid cqm rdt_a avx512f avx512dq rdseed ad\n",
      "                          x smap avx512ifma clflushopt clwb avx512cd sha_ni avx5\n",
      "                          12bw avx512vl xsaveopt xsavec xgetbv1 xsaves cqm_llc c\n",
      "                          qm_occup_llc cqm_mbm_total cqm_mbm_local user_shstk av\n",
      "                          x512_bf16 clzero irperf xsaveerptr rdpru wbnoinvd amd_\n",
      "                          ppin cppc amd_ibpb_ret arat npt lbrv svm_lock nrip_sav\n",
      "                          e tsc_scale vmcb_clean flushbyasid decodeassists pause\n",
      "                          filter pfthreshold avic v_vmsave_vmload vgif x2avic v_\n",
      "                          spec_ctrl vnmi avx512vbmi umip pku ospke avx512_vbmi2 \n",
      "                          gfni vaes vpclmulqdq avx512_vnni avx512_bitalg avx512_\n",
      "                          vpopcntdq la57 rdpid overflow_recov succor smca fsrm f\n",
      "                          lush_l1d debug_swap\n",
      "Virtualization features:  \n",
      "  Virtualization:         AMD-V\n",
      "Caches (sum of all):      \n",
      "  L1d:                    3.5 MiB (112 instances)\n",
      "  L1i:                    3.5 MiB (112 instances)\n",
      "  L2:                     112 MiB (112 instances)\n",
      "  L3:                     512 MiB (16 instances)\n",
      "NUMA:                     \n",
      "  NUMA node(s):           2\n",
      "  NUMA node0 CPU(s):      0-55,112-167\n",
      "  NUMA node1 CPU(s):      56-111,168-223\n",
      "Vulnerabilities:          \n",
      "  Gather data sampling:   Not affected\n",
      "  Itlb multihit:          Not affected\n",
      "  L1tf:                   Not affected\n",
      "  Mds:                    Not affected\n",
      "  Meltdown:               Not affected\n",
      "  Mmio stale data:        Not affected\n",
      "  Reg file data sampling: Not affected\n",
      "  Retbleed:               Not affected\n",
      "  Spec rstack overflow:   Mitigation; Safe RET\n",
      "  Spec store bypass:      Mitigation; Speculative Store Bypass disabled via prct\n",
      "                          l\n",
      "  Spectre v1:             Mitigation; usercopy/swapgs barriers and __user pointe\n",
      "                          r sanitization\n",
      "  Spectre v2:             Mitigation; Enhanced / Automatic IBRS; IBPB conditiona\n",
      "                          l; STIBP always-on; RSB filling; PBRSB-eIBRS Not affec\n",
      "                          ted; BHI Not affected\n",
      "  Srbds:                  Not affected\n",
      "  Tsx async abort:        Not affected\n"
     ]
    }
   ],
   "source": [
    "!nproc\n",
    "!lscpu"
   ]
  },
  {
   "cell_type": "code",
   "execution_count": 2,
   "id": "073bd0be",
   "metadata": {},
   "outputs": [
    {
     "name": "stdout",
     "output_type": "stream",
     "text": [
      "Tue May 20 16:03:47 2025       \n",
      "+-----------------------------------------------------------------------------------------+\n",
      "| NVIDIA-SMI 570.133.20             Driver Version: 570.133.20     CUDA Version: 12.8     |\n",
      "|-----------------------------------------+------------------------+----------------------+\n",
      "| GPU  Name                 Persistence-M | Bus-Id          Disp.A | Volatile Uncorr. ECC |\n",
      "| Fan  Temp   Perf          Pwr:Usage/Cap |           Memory-Usage | GPU-Util  Compute M. |\n",
      "|                                         |                        |               MIG M. |\n",
      "|=========================================+========================+======================|\n",
      "|   0  NVIDIA H100 NVL                On  |   00000000:81:00.0 Off |                    0 |\n",
      "| N/A   40C    P0             89W /  400W |       0MiB /  95830MiB |      0%      Default |\n",
      "|                                         |                        |             Disabled |\n",
      "+-----------------------------------------+------------------------+----------------------+\n",
      "                                                                                         \n",
      "+-----------------------------------------------------------------------------------------+\n",
      "| Processes:                                                                              |\n",
      "|  GPU   GI   CI              PID   Type   Process name                        GPU Memory |\n",
      "|        ID   ID                                                               Usage      |\n",
      "|=========================================================================================|\n",
      "|  No running processes found                                                             |\n",
      "+-----------------------------------------------------------------------------------------+\n"
     ]
    }
   ],
   "source": [
    "!nvidia-smi"
   ]
  }
 ],
 "metadata": {
  "kernelspec": {
   "display_name": "base",
   "language": "python",
   "name": "python3"
  },
  "language_info": {
   "codemirror_mode": {
    "name": "ipython",
    "version": 3
   },
   "file_extension": ".py",
   "mimetype": "text/x-python",
   "name": "python",
   "nbconvert_exporter": "python",
   "pygments_lexer": "ipython3",
   "version": "3.10.14"
  }
 },
 "nbformat": 4,
 "nbformat_minor": 5
}
