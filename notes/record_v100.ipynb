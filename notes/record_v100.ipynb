{
 "cells": [
  {
   "cell_type": "code",
   "execution_count": 2,
   "id": "1bd98dfd",
   "metadata": {},
   "outputs": [
    {
     "name": "stderr",
     "output_type": "stream",
     "text": [
      "  0%|          | 0/6 [00:00<?, ?it/s]"
     ]
    },
    {
     "name": "stdout",
     "output_type": "stream",
     "text": [
      "                                                                                \r"
     ]
    },
    {
     "name": "stderr",
     "output_type": "stream",
     "text": [
      "100%|██████████| 6/6 [08:58<00:00, 89.81s/it] \n"
     ]
    }
   ],
   "source": [
    "# Enable all CPU cores\n",
    "from tqdm import tqdm\n",
    "import pandas as pd\n",
    "import re\n",
    "\n",
    "# Read the file content\n",
    "def parse_to_datafame(file_path):\n",
    "  with open(file_path, \"r\") as file:\n",
    "      content = file.read()\n",
    "  # Define a regex pattern to extract the test case and its details\n",
    "  pattern = r\" structure (?P<structure>.+)\\s+nat\\s+(?P<nat>\\d+)\\s+nprim\\s+(?P<nprim>\\d+)\\s+maxl\\s+(?P<maxl>\\d+)\\s+max_nnl\\s+(?P<max_nnl>\\d+)\\s+mean_nnl\\s+(?P<mean_nnl>\\d+)\\s+max_nsh\\s+(?P<max_nsh>\\d+)\\s+cpu_time\\s+(?P<cpu_time>[\\d.]+)\\s+gpu_gb_in\\s+(?P<gpu_gb_in>[\\d.]+)\\s+gpu_gb_out\\s+(?P<gpu_gb_out>[\\d.]+)\\s+gpu_gb_total\\s+(?P<gpu_gb_total>[\\d.]+)\\s+gpu_between_atoms\\s+(?P<gpu_between_atoms>[\\d.]+)\\s+gpu_in_atoms\\s+(?P<gpu_in_atoms>[\\d.]+)\\s+gpu_time\\s+(?P<gpu_time>[\\d.]+)\\s+gpu_walltime\\s+(?P<gpu_walltime>[\\d.]+)\"\n",
    "\n",
    "  # Use re.finditer to extract all matches\n",
    "  matches = re.finditer(pattern, content)\n",
    "\n",
    "  # Create a list of dictionaries to store the extracted data\n",
    "  data = []\n",
    "  for match in matches:\n",
    "      data.append(match.groupdict())\n",
    "\n",
    "  # Convert the list of dictionaries into a pandas DataFrame\n",
    "  df = pd.DataFrame(data)\n",
    "\n",
    "# Convert numeric columns to appropriate data types\n",
    "  numeric_columns = [\n",
    "      'nat', 'nprim', 'maxl', 'max_nnl', 'mean_nnl', 'max_nsh',\n",
    "      'cpu_time', 'gpu_gb_in', 'gpu_gb_out', 'gpu_gb_total',\n",
    "      'gpu_between_atoms', 'gpu_in_atoms', 'gpu_time', 'gpu_walltime'\n",
    "  ]\n",
    "  # Convert the numeric columns to float\n",
    "  df[numeric_columns] = df[numeric_columns].apply(pd.to_numeric)\n",
    "\n",
    "  # Display the DataFrame\n",
    "  df = df.sort_values('nat')\n",
    "  return df\n",
    "\n",
    "option = 'v100'\n",
    "!rm -rf notes/capture/{option}\n",
    "!mkdir -p notes/capture/{option}\n",
    "!rm -rf notes/data/{option}\n",
    "!mkdir -p notes/data/{option}\n",
    "for ncore in tqdm([1, 2, 4, 8, 16, 32]):\n",
    "  ncore = str(ncore)\n",
    "  !OMP_NUM_THREADS={ncore} meson test -C build/ hamiltonian --verbose -t 0 > notes/capture/{option}/{ncore}cpu.txt\n",
    "  df = parse_to_datafame(f\"notes/capture/{option}/{ncore}cpu.txt\")\n",
    "  df.to_csv(f\"notes/data/{option}/{ncore}cpu.csv\", index=False)"
   ]
  },
  {
   "cell_type": "code",
   "execution_count": 3,
   "id": "7817e0b7",
   "metadata": {},
   "outputs": [
    {
     "name": "stdout",
     "output_type": "stream",
     "text": [
      "32\n",
      "Architecture:             x86_64\n",
      "  CPU op-mode(s):         32-bit, 64-bit\n",
      "  Address sizes:          46 bits physical, 48 bits virtual\n",
      "  Byte Order:             Little Endian\n",
      "CPU(s):                   32\n",
      "  On-line CPU(s) list:    0-31\n",
      "Vendor ID:                GenuineIntel\n",
      "  Model name:             Intel(R) Xeon(R) Gold 6130 CPU @ 2.10GHz\n",
      "    CPU family:           6\n",
      "    Model:                85\n",
      "    Thread(s) per core:   1\n",
      "    Core(s) per socket:   16\n",
      "    Socket(s):            2\n",
      "    Stepping:             4\n",
      "    CPU max MHz:          3700.0000\n",
      "    CPU min MHz:          1000.0000\n",
      "    BogoMIPS:             4200.00\n",
      "    Flags:                fpu vme de pse tsc msr pae mce cx8 apic sep mtrr pge m\n",
      "                          ca cmov pat pse36 clflush dts acpi mmx fxsr sse sse2 s\n",
      "                          s ht tm pbe syscall nx pdpe1gb rdtscp lm constant_tsc \n",
      "                          art arch_perfmon pebs bts rep_good nopl xtopology nons\n",
      "                          top_tsc cpuid aperfmperf pni pclmulqdq dtes64 monitor \n",
      "                          ds_cpl vmx smx est tm2 ssse3 sdbg fma cx16 xtpr pdcm p\n",
      "                          cid dca sse4_1 sse4_2 x2apic movbe popcnt tsc_deadline\n",
      "                          _timer aes xsave avx f16c rdrand lahf_lm abm 3dnowpref\n",
      "                          etch cpuid_fault epb cat_l3 cdp_l3 invpcid_single pti \n",
      "                          intel_ppin ssbd mba ibrs ibpb stibp tpr_shadow vnmi fl\n",
      "                          expriority ept vpid ept_ad fsgsbase tsc_adjust bmi1 hl\n",
      "                          e avx2 smep bmi2 erms invpcid rtm cqm mpx rdt_a avx512\n",
      "                          f avx512dq rdseed adx smap clflushopt clwb intel_pt av\n",
      "                          x512cd avx512bw avx512vl xsaveopt xsavec xgetbv1 xsave\n",
      "                          s cqm_llc cqm_occup_llc cqm_mbm_total cqm_mbm_local dt\n",
      "                          herm ida arat pln pts pku ospke md_clear flush_l1d arc\n",
      "                          h_capabilities\n",
      "Virtualization features:  \n",
      "  Virtualization:         VT-x\n",
      "Caches (sum of all):      \n",
      "  L1d:                    1 MiB (32 instances)\n",
      "  L1i:                    1 MiB (32 instances)\n",
      "  L2:                     32 MiB (32 instances)\n",
      "  L3:                     44 MiB (2 instances)\n",
      "NUMA:                     \n",
      "  NUMA node(s):           2\n",
      "  NUMA node0 CPU(s):      0,2,4,6,8,10,12,14,16,18,20,22,24,26,28,30\n",
      "  NUMA node1 CPU(s):      1,3,5,7,9,11,13,15,17,19,21,23,25,27,29,31\n",
      "Vulnerabilities:          \n",
      "  Gather data sampling:   Mitigation; Microcode\n",
      "  Itlb multihit:          KVM: Mitigation: VMX disabled\n",
      "  L1tf:                   Mitigation; PTE Inversion; VMX conditional cache flush\n",
      "                          es, SMT disabled\n",
      "  Mds:                    Mitigation; Clear CPU buffers; SMT disabled\n",
      "  Meltdown:               Mitigation; PTI\n",
      "  Mmio stale data:        Mitigation; Clear CPU buffers; SMT disabled\n",
      "  Reg file data sampling: Not affected\n",
      "  Retbleed:               Mitigation; IBRS\n",
      "  Spec rstack overflow:   Not affected\n",
      "  Spec store bypass:      Mitigation; Speculative Store Bypass disabled via prct\n",
      "                          l and seccomp\n",
      "  Spectre v1:             Mitigation; usercopy/swapgs barriers and __user pointe\n",
      "                          r sanitization\n",
      "  Spectre v2:             Mitigation; IBRS; IBPB conditional; RSB filling; PBRSB\n",
      "                          -eIBRS Not affected; BHI Not affected\n",
      "  Srbds:                  Not affected\n",
      "  Tsx async abort:        Mitigation; Clear CPU buffers; SMT disabled\n"
     ]
    }
   ],
   "source": [
    "!nproc\n",
    "!lscpu"
   ]
  },
  {
   "cell_type": "code",
   "execution_count": 4,
   "id": "073bd0be",
   "metadata": {},
   "outputs": [
    {
     "name": "stdout",
     "output_type": "stream",
     "text": [
      "Wed May 21 08:02:59 2025       \n",
      "+-----------------------------------------------------------------------------------------+\n",
      "| NVIDIA-SMI 550.90.07              Driver Version: 550.90.07      CUDA Version: 12.4     |\n",
      "|-----------------------------------------+------------------------+----------------------+\n",
      "| GPU  Name                 Persistence-M | Bus-Id          Disp.A | Volatile Uncorr. ECC |\n",
      "| Fan  Temp   Perf          Pwr:Usage/Cap |           Memory-Usage | GPU-Util  Compute M. |\n",
      "|                                         |                        |               MIG M. |\n",
      "|=========================================+========================+======================|\n",
      "|   0  Tesla V100-SXM2-32GB           On  |   00000000:18:00.0 Off |                    0 |\n",
      "| N/A   42C    P0             67W /  300W |       1MiB /  32768MiB |      0%      Default |\n",
      "|                                         |                        |                  N/A |\n",
      "+-----------------------------------------+------------------------+----------------------+\n",
      "|   1  Tesla V100-SXM2-32GB           On  |   00000000:3B:00.0 Off |                    0 |\n",
      "| N/A   32C    P0             41W /  300W |       1MiB /  32768MiB |      0%      Default |\n",
      "|                                         |                        |                  N/A |\n",
      "+-----------------------------------------+------------------------+----------------------+\n",
      "                                                                                         \n",
      "+-----------------------------------------------------------------------------------------+\n",
      "| Processes:                                                                              |\n",
      "|  GPU   GI   CI        PID   Type   Process name                              GPU Memory |\n",
      "|        ID   ID                                                               Usage      |\n",
      "|=========================================================================================|\n",
      "|  No running processes found                                                             |\n",
      "+-----------------------------------------------------------------------------------------+\n"
     ]
    }
   ],
   "source": [
    "!nvidia-smi"
   ]
  }
 ],
 "metadata": {
  "kernelspec": {
   "display_name": "base",
   "language": "python",
   "name": "python3"
  },
  "language_info": {
   "codemirror_mode": {
    "name": "ipython",
    "version": 3
   },
   "file_extension": ".py",
   "mimetype": "text/x-python",
   "name": "python",
   "nbconvert_exporter": "python",
   "pygments_lexer": "ipython3",
   "version": "3.10.14"
  }
 },
 "nbformat": 4,
 "nbformat_minor": 5
}
